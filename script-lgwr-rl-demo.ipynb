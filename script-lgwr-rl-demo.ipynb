{
 "cells": [
  {
   "cell_type": "markdown",
   "metadata": {},
   "source": [
    "Optimize LGWR local bandwidths using Reinforcement learning approach (Proximal Policy Optimization, PPO)"
   ]
  },
  {
   "cell_type": "code",
   "execution_count": 1,
   "metadata": {},
   "outputs": [],
   "source": [
    "from stable_baselines3 import PPO\n",
    "import pandas as pd\n",
    "import geopandas as gp\n",
    "\n",
    "from src.optimizer.reinforce.lgwr_optimizer import LgwrOptimizerRL\n",
    "from src.dataset.interfaces.spatial_dataset import IFieldInfo\n",
    "from src.optimizer.reinforce.callback import EpisodeTracker\n",
    "from src.dataset.spatial_dataset import SpatialDataset\n",
    "from src.kernel.lgwr_kernel import LgwrKernel\n",
    "from src.log.lgwr_logger import LgwrLogger\n",
    "from src.model.lgwr import LGWR"
   ]
  },
  {
   "cell_type": "markdown",
   "metadata": {},
   "source": [
    "Create a logger to record the LGWR model's information."
   ]
  },
  {
   "cell_type": "code",
   "execution_count": null,
   "metadata": {},
   "outputs": [],
   "source": [
    "logger = LgwrLogger()"
   ]
  },
  {
   "cell_type": "markdown",
   "metadata": {},
   "source": [
    "Load the Georgia dataset and create a spatial dataset."
   ]
  },
  {
   "cell_type": "code",
   "execution_count": null,
   "metadata": {},
   "outputs": [],
   "source": [
    "georgia_data = pd.read_csv(r'./data/GData_utm.csv')\n",
    "georgia_shp = gp.read_file(r'./data/GData.shp')\n",
    "spatialDataset = SpatialDataset(\n",
    "\tgeorgia_data,\n",
    "\tIFieldInfo(\n",
    "\t\tpredictor_fields=['PctFB', 'PctBlack', 'PctRural'],\n",
    "\t\tresponse_field='PctBach',\n",
    "\t\tcoordinate_x_field='Longitud',\n",
    "\t\tcoordinate_y_field='Latitude'\n",
    "\t),\n",
    "\tlogger,\n",
    "\tisSpherical=True,\n",
    "    geometry=georgia_shp\n",
    ")"
   ]
  },
  {
   "cell_type": "markdown",
   "metadata": {},
   "source": [
    "Create a LGWR kernel and LGWR model."
   ]
  },
  {
   "cell_type": "code",
   "execution_count": null,
   "metadata": {},
   "outputs": [],
   "source": [
    "kernel = LgwrKernel(\n",
    "\tspatialDataset,\n",
    "\tlogger,\n",
    "\tkernel_type='bisquare',\n",
    "\tkernel_bandwidth_type='adaptive'\n",
    ")\n",
    "lgwr = LGWR(spatialDataset, kernel, logger)"
   ]
  },
  {
   "cell_type": "markdown",
   "metadata": {},
   "source": [
    "Initialize lgwr gym environment"
   ]
  },
  {
   "cell_type": "code",
   "execution_count": null,
   "metadata": {},
   "outputs": [],
   "source": [
    "env = LgwrOptimizerRL(\n",
    "\tlgwr,\n",
    "\tlogger,\n",
    "\tmin_bandwidth=10,\n",
    "\tmax_bandwidth=spatialDataset.x_matrix.shape[0],\n",
    "\tmin_action=-10,\n",
    "\tmax_action=10,\n",
    "\tmax_steps=500,\n",
    "\treward_threshold=0.75\n",
    ")"
   ]
  },
  {
   "cell_type": "markdown",
   "metadata": {},
   "source": [
    "Using PPO to optimize the bandwidth vector\n",
    "(local bandwidths for each location)"
   ]
  },
  {
   "cell_type": "code",
   "execution_count": null,
   "metadata": {},
   "outputs": [],
   "source": [
    "TOTAL_TIMESTEPS = 5000\n",
    "episodeTracker = EpisodeTracker(\n",
    "\tlogger,\n",
    "\ttotal_timesteps=TOTAL_TIMESTEPS\n",
    ")\n",
    "model = PPO(\n",
    "\t\"MlpPolicy\",\n",
    "\tenv,\n",
    "\tverbose=1,\n",
    "\tdevice='cpu'\n",
    ")\n",
    "model.learn(\n",
    "\ttotal_timesteps=TOTAL_TIMESTEPS,\n",
    "\tcallback=episodeTracker\n",
    ")\n",
    "logger.append_info(\"PPO: PPO finished training.\")"
   ]
  },
  {
   "cell_type": "markdown",
   "metadata": {},
   "source": [
    "Test the model"
   ]
  },
  {
   "cell_type": "code",
   "execution_count": null,
   "metadata": {},
   "outputs": [],
   "source": [
    "obs, _ = env.reset()\n",
    "for _ in range(1000):\n",
    "\taction, _ = model.predict(obs)\n",
    "\tobs, reward, done, truncated, _ = env.step(action)\n",
    "\tlogger.append_info(\n",
    "\t\tf\"Bandwidth: {obs}, Reward (R2): {reward}\"\n",
    "\t)\n",
    "\tif done or truncated:\n",
    "\t\tbreak"
   ]
  },
  {
   "cell_type": "markdown",
   "metadata": {},
   "source": [
    "Save the log"
   ]
  },
  {
   "cell_type": "code",
   "execution_count": null,
   "metadata": {},
   "outputs": [],
   "source": [
    "logger.save_model_info_json()"
   ]
  }
 ],
 "metadata": {
  "kernelspec": {
   "display_name": "lmgwr",
   "language": "python",
   "name": "python3"
  },
  "language_info": {
   "codemirror_mode": {
    "name": "ipython",
    "version": 3
   },
   "file_extension": ".py",
   "mimetype": "text/x-python",
   "name": "python",
   "nbconvert_exporter": "python",
   "pygments_lexer": "ipython3",
   "version": "3.12.0"
  }
 },
 "nbformat": 4,
 "nbformat_minor": 2
}
