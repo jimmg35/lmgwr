{
 "cells": [
  {
   "cell_type": "markdown",
   "metadata": {},
   "source": [
    "Optimize GWR bandwidth using Reinforcement learning approach (Proximal Policy Optimization, PPO)"
   ]
  },
  {
   "cell_type": "code",
   "execution_count": null,
   "metadata": {},
   "outputs": [],
   "source": [
    "from stable_baselines3 import PPO\n",
    "import pandas as pd\n",
    "\n",
    "from src.dataset.spatial_dataset import SpatialDataset\n",
    "from src.dataset.interfaces.spatial_dataset import IFieldInfo\n",
    "from src.model.gwr import GWR\n",
    "from src.kernel.gwr_kernel import GwrKernel\n",
    "from src.log.gwr_logger import GwrLogger\n",
    "from src.optimizer.reinforce.gwr_optimizer import GwrOptimizerRL\n"
   ]
  },
  {
   "cell_type": "markdown",
   "metadata": {},
   "source": []
  }
 ],
 "metadata": {
  "kernelspec": {
   "display_name": "lmgwr",
   "language": "python",
   "name": "python3"
  },
  "language_info": {
   "name": "python",
   "version": "3.12.0"
  }
 },
 "nbformat": 4,
 "nbformat_minor": 2
}
