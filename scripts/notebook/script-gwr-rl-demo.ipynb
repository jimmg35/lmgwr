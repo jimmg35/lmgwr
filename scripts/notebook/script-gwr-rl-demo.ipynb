{
 "cells": [
  {
   "cell_type": "markdown",
   "metadata": {},
   "source": [
    "Optimize GWR bandwidth using Reinforcement learning approach (Proximal Policy Optimization, PPO)"
   ]
  },
  {
   "cell_type": "code",
   "execution_count": null,
   "metadata": {},
   "outputs": [],
   "source": [
    "from stable_baselines3 import PPO\n",
    "import pandas as pd\n",
    "\n",
    "from src.optimizer.reinforce.gwr_optimizer import GwrOptimizerRL\n",
    "from src.dataset.interfaces.spatial_dataset import FieldInfo\n",
    "from src.optimizer.reinforce.callback import EpisodeTracker\n",
    "from src.dataset.spatial_dataset import SpatialDataset\n",
    "from src.kernel.gwr_kernel import GwrKernel\n",
    "from src.log.gwr_logger import GwrLogger\n",
    "from src.model.gwr import GWR"
   ]
  },
  {
   "cell_type": "markdown",
   "metadata": {},
   "source": [
    "Create a logger to record the GWR model's information."
   ]
  },
  {
   "cell_type": "code",
   "execution_count": null,
   "metadata": {},
   "outputs": [],
   "source": [
    "logger = GwrLogger()"
   ]
  },
  {
   "cell_type": "markdown",
   "metadata": {},
   "source": [
    "Load the Georgia dataset and create a spatial dataset."
   ]
  },
  {
   "cell_type": "code",
   "execution_count": null,
   "metadata": {},
   "outputs": [],
   "source": [
    "georgia_data = pd.read_csv(r'./data/GData_utm.csv')\n",
    "spatialDataset = SpatialDataset(\n",
    "\tgeorgia_data,\n",
    "\tFieldInfo(\n",
    "\t\tpredictor_fields=['PctFB', 'PctBlack', 'PctRural'],\n",
    "\t\tresponse_field='PctBach',\n",
    "\t\tcoordinate_x_field='Longitud',\n",
    "\t\tcoordinate_y_field='Latitude'\n",
    "\t),\n",
    "\tlogger,\n",
    "\tisSpherical=True\n",
    ")"
   ]
  },
  {
   "cell_type": "markdown",
   "metadata": {},
   "source": [
    "Create a GWR kernel and GWR model."
   ]
  },
  {
   "cell_type": "code",
   "execution_count": null,
   "metadata": {},
   "outputs": [],
   "source": [
    "kernel = GwrKernel(\n",
    "\tspatialDataset,\n",
    "\tlogger,\n",
    "\tkernel_type='bisquare',\n",
    "\tkernel_bandwidth_type='adaptive'\n",
    ")\n",
    "gwr = GWR(spatialDataset, kernel, logger)"
   ]
  },
  {
   "cell_type": "markdown",
   "metadata": {},
   "source": [
    "Initialize gwr gym environment"
   ]
  },
  {
   "cell_type": "code",
   "execution_count": null,
   "metadata": {},
   "outputs": [],
   "source": [
    "env = GwrOptimizerRL(\n",
    "\tgwr,\n",
    "\tlogger,\n",
    "\tmin_bandwidth=10,\n",
    "\tmax_bandwidth=spatialDataset.X.shape[0],\n",
    "\tmin_action=-10,\n",
    "\tmax_action=10\n",
    ")"
   ]
  },
  {
   "cell_type": "markdown",
   "metadata": {},
   "source": [
    "Using PPO to optimize the bandwidth"
   ]
  },
  {
   "cell_type": "code",
   "execution_count": null,
   "metadata": {},
   "outputs": [],
   "source": [
    "TOTAL_TIMESTEPS = 5000\n",
    "episodeTracker = EpisodeTracker(\n",
    "  logger,\n",
    "  total_timesteps=TOTAL_TIMESTEPS\n",
    ")\n",
    "model = PPO(\n",
    "  \"MlpPolicy\", \n",
    "  env, \n",
    "  verbose=1, \n",
    "  device='cpu'\n",
    ")\n",
    "model.learn(\n",
    "  total_timesteps=TOTAL_TIMESTEPS, \n",
    "  callback=episodeTracker\n",
    ")\n",
    "logger.append_info(\"PPO: PPO finished training.\")"
   ]
  },
  {
   "cell_type": "markdown",
   "metadata": {},
   "source": [
    "Test the model"
   ]
  },
  {
   "cell_type": "code",
   "execution_count": null,
   "metadata": {},
   "outputs": [],
   "source": [
    "obs, _ = env.reset()\n",
    "for _ in range(100):\n",
    "\taction, _ = model.predict(obs)\n",
    "\tobs, reward, done, truncated, _ = env.step(action)\n",
    "\tlogger.append_info(\n",
    "\t\tf\"Bandwidth: {obs}, Reward (R2): {reward}\"\n",
    "\t)\n",
    "\tif done or truncated:\n",
    "\t\tbreak\n",
    "\n",
    "logger.save_model_info_json()"
   ]
  }
 ],
 "metadata": {
  "kernelspec": {
   "display_name": "lmgwr",
   "language": "python",
   "name": "python3"
  },
  "language_info": {
   "codemirror_mode": {
    "name": "ipython",
    "version": 3
   },
   "file_extension": ".py",
   "mimetype": "text/x-python",
   "name": "python",
   "nbconvert_exporter": "python",
   "pygments_lexer": "ipython3",
   "version": "3.12.0"
  }
 },
 "nbformat": 4,
 "nbformat_minor": 2
}
