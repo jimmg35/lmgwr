{
 "cells": [
  {
   "cell_type": "markdown",
   "id": "89d45e5c",
   "metadata": {},
   "source": [
    "# Model benchmarking"
   ]
  },
  {
   "cell_type": "code",
   "execution_count": null,
   "id": "50214598",
   "metadata": {},
   "outputs": [],
   "source": [
    "import numpy as np\n",
    "\n",
    "from src.model.gwr import GWR\n",
    "from src.kernel.gwr_kernel import GwrKernel\n",
    "from src.optimizer.gwr_optimizer import GwrOptimizer\n",
    "from src.log.gwr_logger import GwrLogger\n",
    "from src.dataset.simulated_spatial_dataset import SimulatedSpatialDataset"
   ]
  },
  {
   "cell_type": "code",
   "execution_count": null,
   "id": "34e51b63",
   "metadata": {},
   "outputs": [],
   "source": [
    "\n",
    "field_size = 40\n",
    "err = np.random.randn(field_size * field_size)\n",
    "\n",
    "dataset = SimulatedSpatialDataset(field_size=field_size)\n",
    "[b0, b1, b2] = dataset.generate_processes()\n",
    "[X, y] = dataset.fit_y(b0, b1, b2)"
   ]
  }
 ],
 "metadata": {
  "kernelspec": {
   "display_name": "lmgwr",
   "language": "python",
   "name": "python3"
  },
  "language_info": {
   "codemirror_mode": {
    "name": "ipython",
    "version": 3
   },
   "file_extension": ".py",
   "mimetype": "text/x-python",
   "name": "python",
   "nbconvert_exporter": "python",
   "pygments_lexer": "ipython3",
   "version": "3.12.0"
  }
 },
 "nbformat": 4,
 "nbformat_minor": 5
}
